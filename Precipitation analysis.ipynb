{
    "cells": [
        {
            "cell_type": "markdown",
            "metadata": {},
            "source": "# Here's my cute first ever Jupyter notebook in Watson.\n\nIt's not actually as cute as the OG jupyter notebooks."
        },
        {
            "cell_type": "markdown",
            "metadata": {},
            "source": "Look how cute this issss"
        },
        {
            "cell_type": "markdown",
            "metadata": {},
            "source": "I can't seem to manage to publish it to Github though"
        },
        {
            "cell_type": "code",
            "execution_count": null,
            "metadata": {},
            "outputs": [],
            "source": ""
        }
    ],
    "metadata": {
        "kernelspec": {
            "display_name": "Python 3.7",
            "language": "python",
            "name": "python3"
        },
        "language_info": {
            "codemirror_mode": {
                "name": "ipython",
                "version": 3
            },
            "file_extension": ".py",
            "mimetype": "text/x-python",
            "name": "python",
            "nbconvert_exporter": "python",
            "pygments_lexer": "ipython3",
            "version": "3.7.9"
        }
    },
    "nbformat": 4,
    "nbformat_minor": 1
}